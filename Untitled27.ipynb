{
 "cells": [
  {
   "cell_type": "markdown",
   "metadata": {},
   "source": [
    "## Problem Statement: Prepare a ML model that identifies user face real time from webcam (binary image classification)."
   ]
  },
  {
   "cell_type": "markdown",
   "metadata": {},
   "source": [
    "## Importing all necessery libraries"
   ]
  },
  {
   "cell_type": "code",
   "execution_count": 3,
   "metadata": {},
   "outputs": [],
   "source": [
    "import cv2\n",
    "# cv2 is for capturing images\n",
    "\n",
    "import os\n",
    "# this helps to deal with directory\n",
    "\n",
    "import numpy as np\n",
    "# Helps to do different kind of mathematical operations\n",
    "\n",
    "from PIL import Image\n",
    "# pillow helps to deal with image file\n",
    "\n",
    "import pandas as pd\n",
    "#pandas helps to manipulate data\n"
   ]
  },
  {
   "cell_type": "markdown",
   "metadata": {},
   "source": [
    "### User image collection from webcam to learn the model (this is one time collection to learn the model).\n",
    "\n"
   ]
  },
  {
   "cell_type": "code",
   "execution_count": null,
   "metadata": {},
   "outputs": [],
   "source": [
    "Path = input(\"Create a new folder in the directory and enter the path of that directory: \")\n",
    "# Asking user to give a path in the directory to save the images\n",
    "os.chdir(Path)\n",
    "# Capturing 2000 sampel images of user\n",
    "\n",
    "camera = cv2.VideoCapture(0)\n",
    "for i in range(2000):\n",
    "    return_value, image = camera.read()\n",
    "    \n",
    "    cv2.imwrite('opencv'+str(i)+'.jpg', image)\n",
    "del(camera)\n"
   ]
  },
  {
   "cell_type": "markdown",
   "metadata": {},
   "source": [
    "### Converting collected images into numpy arrays"
   ]
  },
  {
   "cell_type": "code",
   "execution_count": null,
   "metadata": {},
   "outputs": [],
   "source": [
    "n=len(os.listdir(os.getcwd()))\n",
    "# number of files in that directory \n",
    "# as we create new folder and taken image at that so this indicate number of image in that folder\n",
    "\n",
    "directory = Path\n",
    "i=0\n",
    "\n",
    "arr=np.empty(( n,32*32*4+1))\n",
    "# Initilizing a empty array letter we populate this array iteratively\n",
    "\n",
    "for filename in os.listdir(directory):\n",
    "    \n",
    "    image = Image.open(filename).convert('RGBA')\n",
    "    #converting the image in to (RGBA) format where R<-red, G<-green,B<-blue, A<-alpha\n",
    "    \n",
    "    image = image.resize((32,32))\n",
    "    # resizing image into same dimention \n",
    "    # converting image into (32,32,4) dimensional array \n",
    "    \n",
    "    data = np.asarray(image)\n",
    "    # converting image into (32,32,4) dimensional array \n",
    "    \n",
    "    \n",
    "    data=data.reshape((1,32*32*4))\n",
    "    # reshaping the array into a row vector\n",
    "    \n",
    "    data=np.append(data,1)\n",
    "    # also concatinating 1 with that array to indicate this is right image of the user\n",
    "        \n",
    "    arr[i,:]=data\n",
    "    # Populating empty array with row vector\n",
    "    i=i+1\n",
    "np.save(\"d.npy\",arr)\n",
    "arr.shape"
   ]
  },
  {
   "cell_type": "markdown",
   "metadata": {},
   "source": [
    "### Using the previous two cell collect some images which are not my face"
   ]
  },
  {
   "cell_type": "code",
   "execution_count": 4,
   "metadata": {},
   "outputs": [],
   "source": [
    "os.chdir(\"/home/sd/Desktop/trainning set\")"
   ]
  },
  {
   "cell_type": "markdown",
   "metadata": {},
   "source": [
    "### Loading all the saved image arrays"
   ]
  },
  {
   "cell_type": "code",
   "execution_count": 5,
   "metadata": {},
   "outputs": [],
   "source": [
    "a=np.load('father.npy')\n",
    "b=np.load('mother.npy')\n",
    "c=np.load('mother1.npy')\n",
    "d=np.load('room.npy')\n",
    "e=np.load('me.npy')\n",
    "f=np.load('me1.npy')\n",
    "g=np.load('garbage.npy')\n",
    "h=np.load('d.npy')"
   ]
  },
  {
   "cell_type": "markdown",
   "metadata": {},
   "source": [
    "#### Making a big array with all image array and convert it into pandas DataFrame"
   ]
  },
  {
   "cell_type": "code",
   "execution_count": 6,
   "metadata": {},
   "outputs": [],
   "source": [
    "arr2=np.concatenate((a,b,c,d,e,f,g,h),axis=0)\n",
    "df=pd.DataFrame(arr2)"
   ]
  },
  {
   "cell_type": "code",
   "execution_count": 7,
   "metadata": {},
   "outputs": [],
   "source": [
    "#### Shape of the data frame that we create"
   ]
  },
  {
   "cell_type": "code",
   "execution_count": 559,
   "metadata": {},
   "outputs": [
    {
     "data": {
      "text/plain": [
       "(16000, 4097)"
      ]
     },
     "execution_count": 559,
     "metadata": {},
     "output_type": "execute_result"
    }
   ],
   "source": [
    "df.shape\n",
    "# Shape of the DataFrame"
   ]
  },
  {
   "cell_type": "code",
   "execution_count": 558,
   "metadata": {},
   "outputs": [
    {
     "data": {
      "text/html": [
       "<div>\n",
       "<style scoped>\n",
       "    .dataframe tbody tr th:only-of-type {\n",
       "        vertical-align: middle;\n",
       "    }\n",
       "\n",
       "    .dataframe tbody tr th {\n",
       "        vertical-align: top;\n",
       "    }\n",
       "\n",
       "    .dataframe thead th {\n",
       "        text-align: right;\n",
       "    }\n",
       "</style>\n",
       "<table border=\"1\" class=\"dataframe\">\n",
       "  <thead>\n",
       "    <tr style=\"text-align: right;\">\n",
       "      <th></th>\n",
       "      <th>0</th>\n",
       "      <th>1</th>\n",
       "      <th>2</th>\n",
       "      <th>3</th>\n",
       "      <th>4</th>\n",
       "      <th>5</th>\n",
       "      <th>6</th>\n",
       "      <th>7</th>\n",
       "      <th>8</th>\n",
       "      <th>9</th>\n",
       "      <th>...</th>\n",
       "      <th>4087</th>\n",
       "      <th>4088</th>\n",
       "      <th>4089</th>\n",
       "      <th>4090</th>\n",
       "      <th>4091</th>\n",
       "      <th>4092</th>\n",
       "      <th>4093</th>\n",
       "      <th>4094</th>\n",
       "      <th>4095</th>\n",
       "      <th>4096</th>\n",
       "    </tr>\n",
       "  </thead>\n",
       "  <tbody>\n",
       "    <tr>\n",
       "      <th>15995</th>\n",
       "      <td>55.0</td>\n",
       "      <td>46.0</td>\n",
       "      <td>40.0</td>\n",
       "      <td>255.0</td>\n",
       "      <td>69.0</td>\n",
       "      <td>64.0</td>\n",
       "      <td>61.0</td>\n",
       "      <td>255.0</td>\n",
       "      <td>71.0</td>\n",
       "      <td>70.0</td>\n",
       "      <td>...</td>\n",
       "      <td>255.0</td>\n",
       "      <td>76.0</td>\n",
       "      <td>62.0</td>\n",
       "      <td>45.0</td>\n",
       "      <td>255.0</td>\n",
       "      <td>88.0</td>\n",
       "      <td>60.0</td>\n",
       "      <td>46.0</td>\n",
       "      <td>255.0</td>\n",
       "      <td>0.0</td>\n",
       "    </tr>\n",
       "    <tr>\n",
       "      <th>15996</th>\n",
       "      <td>96.0</td>\n",
       "      <td>91.0</td>\n",
       "      <td>93.0</td>\n",
       "      <td>255.0</td>\n",
       "      <td>99.0</td>\n",
       "      <td>95.0</td>\n",
       "      <td>96.0</td>\n",
       "      <td>255.0</td>\n",
       "      <td>97.0</td>\n",
       "      <td>94.0</td>\n",
       "      <td>...</td>\n",
       "      <td>255.0</td>\n",
       "      <td>78.0</td>\n",
       "      <td>80.0</td>\n",
       "      <td>64.0</td>\n",
       "      <td>255.0</td>\n",
       "      <td>94.0</td>\n",
       "      <td>89.0</td>\n",
       "      <td>72.0</td>\n",
       "      <td>255.0</td>\n",
       "      <td>0.0</td>\n",
       "    </tr>\n",
       "    <tr>\n",
       "      <th>15997</th>\n",
       "      <td>104.0</td>\n",
       "      <td>113.0</td>\n",
       "      <td>89.0</td>\n",
       "      <td>255.0</td>\n",
       "      <td>112.0</td>\n",
       "      <td>121.0</td>\n",
       "      <td>97.0</td>\n",
       "      <td>255.0</td>\n",
       "      <td>116.0</td>\n",
       "      <td>127.0</td>\n",
       "      <td>...</td>\n",
       "      <td>255.0</td>\n",
       "      <td>119.0</td>\n",
       "      <td>87.0</td>\n",
       "      <td>93.0</td>\n",
       "      <td>255.0</td>\n",
       "      <td>118.0</td>\n",
       "      <td>88.0</td>\n",
       "      <td>94.0</td>\n",
       "      <td>255.0</td>\n",
       "      <td>0.0</td>\n",
       "    </tr>\n",
       "    <tr>\n",
       "      <th>15998</th>\n",
       "      <td>90.0</td>\n",
       "      <td>83.0</td>\n",
       "      <td>86.0</td>\n",
       "      <td>255.0</td>\n",
       "      <td>94.0</td>\n",
       "      <td>88.0</td>\n",
       "      <td>90.0</td>\n",
       "      <td>255.0</td>\n",
       "      <td>95.0</td>\n",
       "      <td>88.0</td>\n",
       "      <td>...</td>\n",
       "      <td>255.0</td>\n",
       "      <td>79.0</td>\n",
       "      <td>74.0</td>\n",
       "      <td>61.0</td>\n",
       "      <td>255.0</td>\n",
       "      <td>94.0</td>\n",
       "      <td>85.0</td>\n",
       "      <td>70.0</td>\n",
       "      <td>255.0</td>\n",
       "      <td>0.0</td>\n",
       "    </tr>\n",
       "    <tr>\n",
       "      <th>15999</th>\n",
       "      <td>59.0</td>\n",
       "      <td>55.0</td>\n",
       "      <td>57.0</td>\n",
       "      <td>255.0</td>\n",
       "      <td>59.0</td>\n",
       "      <td>57.0</td>\n",
       "      <td>59.0</td>\n",
       "      <td>255.0</td>\n",
       "      <td>62.0</td>\n",
       "      <td>60.0</td>\n",
       "      <td>...</td>\n",
       "      <td>255.0</td>\n",
       "      <td>49.0</td>\n",
       "      <td>51.0</td>\n",
       "      <td>38.0</td>\n",
       "      <td>255.0</td>\n",
       "      <td>53.0</td>\n",
       "      <td>53.0</td>\n",
       "      <td>40.0</td>\n",
       "      <td>255.0</td>\n",
       "      <td>0.0</td>\n",
       "    </tr>\n",
       "  </tbody>\n",
       "</table>\n",
       "<p>5 rows × 4097 columns</p>\n",
       "</div>"
      ],
      "text/plain": [
       "        0      1     2      3      4      5     6      7      8      9     \\\n",
       "15995   55.0   46.0  40.0  255.0   69.0   64.0  61.0  255.0   71.0   70.0   \n",
       "15996   96.0   91.0  93.0  255.0   99.0   95.0  96.0  255.0   97.0   94.0   \n",
       "15997  104.0  113.0  89.0  255.0  112.0  121.0  97.0  255.0  116.0  127.0   \n",
       "15998   90.0   83.0  86.0  255.0   94.0   88.0  90.0  255.0   95.0   88.0   \n",
       "15999   59.0   55.0  57.0  255.0   59.0   57.0  59.0  255.0   62.0   60.0   \n",
       "\n",
       "       ...   4087   4088  4089  4090   4091   4092  4093  4094   4095  4096  \n",
       "15995  ...  255.0   76.0  62.0  45.0  255.0   88.0  60.0  46.0  255.0   0.0  \n",
       "15996  ...  255.0   78.0  80.0  64.0  255.0   94.0  89.0  72.0  255.0   0.0  \n",
       "15997  ...  255.0  119.0  87.0  93.0  255.0  118.0  88.0  94.0  255.0   0.0  \n",
       "15998  ...  255.0   79.0  74.0  61.0  255.0   94.0  85.0  70.0  255.0   0.0  \n",
       "15999  ...  255.0   49.0  51.0  38.0  255.0   53.0  53.0  40.0  255.0   0.0  \n",
       "\n",
       "[5 rows x 4097 columns]"
      ]
     },
     "execution_count": 558,
     "metadata": {},
     "output_type": "execute_result"
    }
   ],
   "source": [
    "df.tail()\n",
    "# First 5 row of the data set"
   ]
  },
  {
   "cell_type": "code",
   "execution_count": 9,
   "metadata": {},
   "outputs": [],
   "source": [
    "df = df.drop_duplicates()\n",
    "# checking duplicates"
   ]
  },
  {
   "cell_type": "code",
   "execution_count": 10,
   "metadata": {},
   "outputs": [
    {
     "data": {
      "text/plain": [
       "(16000, 4097)"
      ]
     },
     "execution_count": 10,
     "metadata": {},
     "output_type": "execute_result"
    }
   ],
   "source": [
    "df.shape\n",
    "# assuring if there were any duplicates"
   ]
  },
  {
   "cell_type": "markdown",
   "metadata": {},
   "source": [
    "### Here we mention the variabls and terget veriable"
   ]
  },
  {
   "cell_type": "code",
   "execution_count": 12,
   "metadata": {},
   "outputs": [],
   "source": [
    "X= df.loc[:, 0:4095]\n",
    "# This is columns except the last column \n",
    "Y=df.loc[:,4096]\n",
    "# This is the last column"
   ]
  },
  {
   "cell_type": "markdown",
   "metadata": {},
   "source": [
    "### Now deviding the sets into a test set and a train set. \n",
    "### We train model using train set and test that model usinf test set."
   ]
  },
  {
   "cell_type": "code",
   "execution_count": 13,
   "metadata": {},
   "outputs": [],
   "source": [
    "from sklearn.model_selection import train_test_split\n",
    "X_train, X_test, Y_train, Y_test = train_test_split(X, Y, test_size=.8)"
   ]
  },
  {
   "cell_type": "markdown",
   "metadata": {},
   "source": [
    "### We choose the logistic regression model "
   ]
  },
  {
   "cell_type": "code",
   "execution_count": 15,
   "metadata": {},
   "outputs": [],
   "source": [
    "from sklearn.linear_model import LogisticRegression as log\n",
    "\n",
    "logreg = log(tol=0.0001,max_iter=10000)\n",
    "# Here I take maximum iteration 10000 times and acceptance of error is 0.0001\n",
    "\n",
    "logreg.fit(X_train, Y_train)\n",
    "#Train the model with trainning set that we create earlier"
   ]
  },
  {
   "cell_type": "markdown",
   "metadata": {},
   "source": [
    "### model test using test set"
   ]
  },
  {
   "cell_type": "code",
   "execution_count": 21,
   "metadata": {},
   "outputs": [
    {
     "name": "stdout",
     "output_type": "stream",
     "text": [
      "Accuracy of logistic regression classifier on test set: 0.93\n"
     ]
    }
   ],
   "source": [
    "y_pred = logreg.predict(X_test)\n",
    "print('Accuracy of logistic regression classifier on test set: {:.2f}'.format(logreg.score(X_test, Y_test)))"
   ]
  },
  {
   "cell_type": "code",
   "execution_count": 18,
   "metadata": {},
   "outputs": [],
   "source": []
  },
  {
   "cell_type": "code",
   "execution_count": 561,
   "metadata": {},
   "outputs": [
    {
     "name": "stdout",
     "output_type": "stream",
     "text": [
      "\u001b[31mPerson undetected\n"
     ]
    }
   ],
   "source": [
    "camera = cv2.VideoCapture(0)\n",
    "return_value, image = camera.read()\n",
    "cv2.imwrite('RealTimeImage'+'.png', image)\n",
    "del(camera)\n",
    "\n",
    "image = Image.open('RealTimeImage.png').convert('RGBA')\n",
    "image1 = image.resize((32,32))\n",
    "data1 = np.asarray(image1)\n",
    "data1=data1.reshape((1,32*32*4))\n",
    "t=logreg.predict(data1)\n",
    "\n",
    "\n",
    "\n",
    "from colorama import Fore, Back, Style\n",
    "if t==1:\n",
    "    print(Fore.GREEN +\"Person Detected\")\n",
    "if t==0:\n",
    "    print(Fore.RED +\"Person undetected\")\n",
    "image.show(title=d, command=d)"
   ]
  },
  {
   "cell_type": "code",
   "execution_count": null,
   "metadata": {},
   "outputs": [],
   "source": []
  },
  {
   "cell_type": "code",
   "execution_count": null,
   "metadata": {},
   "outputs": [],
   "source": []
  }
 ],
 "metadata": {
  "kernelspec": {
   "display_name": "Python 3",
   "language": "python",
   "name": "python3"
  },
  "language_info": {
   "codemirror_mode": {
    "name": "ipython",
    "version": 3
   },
   "file_extension": ".py",
   "mimetype": "text/x-python",
   "name": "python",
   "nbconvert_exporter": "python",
   "pygments_lexer": "ipython3",
   "version": "3.8.5"
  }
 },
 "nbformat": 4,
 "nbformat_minor": 4
}
